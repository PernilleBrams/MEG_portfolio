{
 "cells": [
  {
   "cell_type": "code",
   "execution_count": 3,
   "metadata": {},
   "outputs": [],
   "source": [
    "import mne\n",
    "import json\n",
    "from pathlib import Path\n",
    "import sys\n",
    "\n",
    "'''Gathering all epochs in a combined one'''\n",
    "# Define paths and read session info as in your provided code...\n",
    "\n",
    "# Assuming notebook is located in: /work/name/notebooks_PHB/MEG_portfolio/sanity_checks/\n",
    "notebook_path = Path(\"/work/PernilleHøjlundBrams#8577/notebooks_PHB/MEG_portfolio/sanity_checks\")\n",
    "\n",
    "# Add the utils module path to sys.path to import preprocess_data_sensorspace\n",
    "sys.path.append(str(notebook_path.parents[0]))  # Adding the parent directory to sys.path\n",
    "from utils import preprocess_data_sensorspace\n",
    "\n",
    "def gather_all_epochs(subjects, recording_names, session_info, MEG_data_path, ICA_path):\n",
    "    all_epochs = []\n",
    "\n",
    "    for subject in subjects:\n",
    "        subject_info = session_info[subject]\n",
    "        reject = subject_info[\"reject\"]\n",
    "\n",
    "        subject_path = MEG_data_path / subject\n",
    "        subject_meg_path = list(subject_path.glob(\"*_000000\"))[0]\n",
    "\n",
    "        # Looping through blocks\n",
    "        for recording_name in recording_names:\n",
    "\n",
    "            subject_session_info = subject_info[recording_name]\n",
    "            fif_file_path = list((subject_meg_path / \"MEG\" / recording_name / \"files\").glob(\"*.fif\"))[0]\n",
    "            ICA_path_sub = ICA_path / subject / f\"{recording_name}-ica.fif\"\n",
    "\n",
    "            # If a self-block, then take only 11/12 (no buttons)\n",
    "            if 'self' in recording_name:\n",
    "                event_id = {\"img/self/positive\": 11, \"img/self/negative\": 12}\n",
    "            # If an other-block, then take only 21/22 (no buttons)\n",
    "            elif 'other' in recording_name: \n",
    "                event_id = {\"img/assigned/positive\": 21, \"img/assigned/negative\": 22}\n",
    "\n",
    "            epochs = preprocess_data_sensorspace(\n",
    "                fif_file_path,\n",
    "                subject_session_info[\"bad_channels\"],\n",
    "                reject,\n",
    "                ICA_path_sub,\n",
    "                subject_session_info[\"noise_components\"],\n",
    "                event_ids = event_id\n",
    "            )\n",
    "            all_epochs.append(epochs)\n",
    "\n",
    "    # Concatenate all epochs into a single Epochs object\n",
    "    combined_epochs = mne.concatenate_epochs(all_epochs, add_offset=True)\n",
    "    \n",
    "    return combined_epochs\n"
   ]
  },
  {
   "cell_type": "code",
   "execution_count": 6,
   "metadata": {},
   "outputs": [
    {
     "name": "stdout",
     "output_type": "stream",
     "text": [
      "Opening raw data file /work/834761/0108/20230928_000000/MEG/001.self_block1/files/self_block1.fif...\n",
      "    Read a total of 9 projection items:\n",
      "        planar-Raw-0.000-120.000-PCA-01 (1 x 203)  idle\n",
      "        planar-Raw-0.000-120.000-PCA-02 (1 x 203)  idle\n",
      "        planar-Raw-0.000-120.000-PCA-03 (1 x 203)  idle\n",
      "        axial-Raw-0.000-120.000-PCA-01 (1 x 102)  idle\n",
      "        axial-Raw-0.000-120.000-PCA-02 (1 x 102)  idle\n",
      "        axial-Raw-0.000-120.000-PCA-03 (1 x 102)  idle\n",
      "        axial-Raw-0.000-120.000-PCA-04 (1 x 102)  idle\n",
      "        axial-Raw-0.000-120.000-PCA-05 (1 x 102)  idle\n",
      "        axial-Raw-0.000-120.000-PCA-06 (1 x 102)  idle\n",
      "    Range : 74000 ... 452999 =     74.000 ...   452.999 secs\n",
      "Ready.\n",
      "Reading 0 ... 378999  =      0.000 ...   378.999 secs...\n"
     ]
    },
    {
     "name": "stderr",
     "output_type": "stream",
     "text": [
      "/work/PernilleHøjlundBrams#8577/notebooks_PHB/MEG_portfolio/utils.py:29: RuntimeWarning: This filename (/work/834761/0108/20230928_000000/MEG/001.self_block1/files/self_block1.fif) does not conform to MNE naming conventions. All raw files should end with raw.fif, raw_sss.fif, raw_tsss.fif, _meg.fif, _eeg.fif, _ieeg.fif, raw.fif.gz, raw_sss.fif.gz, raw_tsss.fif.gz, _meg.fif.gz, _eeg.fif.gz or _ieeg.fif.gz\n",
      "  raw = mne.io.read_raw_fif(fif_path, preload = True)\n"
     ]
    },
    {
     "name": "stdout",
     "output_type": "stream",
     "text": [
      "Filtering raw data in 1 contiguous segment\n",
      "Setting up band-pass filter from 0.1 - 40 Hz\n",
      "\n",
      "FIR filter parameters\n",
      "---------------------\n",
      "Designing a one-pass, zero-phase, non-causal bandpass filter:\n",
      "- Windowed time-domain design (firwin) method\n",
      "- Hamming window with 0.0194 passband ripple and 53 dB stopband attenuation\n",
      "- Lower passband edge: 0.10\n",
      "- Lower transition bandwidth: 0.10 Hz (-6 dB cutoff frequency: 0.05 Hz)\n",
      "- Upper passband edge: 40.00 Hz\n",
      "- Upper transition bandwidth: 10.00 Hz (-6 dB cutoff frequency: 45.00 Hz)\n",
      "- Filter length: 33001 samples (33.001 s)\n",
      "\n"
     ]
    },
    {
     "name": "stderr",
     "output_type": "stream",
     "text": [
      "[Parallel(n_jobs=4)]: Using backend LokyBackend with 4 concurrent workers.\n",
      "[Parallel(n_jobs=4)]: Done  44 tasks      | elapsed:    0.7s\n",
      "[Parallel(n_jobs=4)]: Done 306 out of 306 | elapsed:    3.4s finished\n"
     ]
    },
    {
     "name": "stdout",
     "output_type": "stream",
     "text": [
      "Reading /work/study_group_8/ICA/0108/001.self_block1-ica.fif ...\n",
      "    Read a total of 9 projection items:\n",
      "        planar-Raw-0.000-120.000-PCA-01 (1 x 203)  idle\n",
      "        planar-Raw-0.000-120.000-PCA-02 (1 x 203)  idle\n",
      "        planar-Raw-0.000-120.000-PCA-03 (1 x 203)  idle\n",
      "        axial-Raw-0.000-120.000-PCA-01 (1 x 102)  idle\n",
      "        axial-Raw-0.000-120.000-PCA-02 (1 x 102)  idle\n",
      "        axial-Raw-0.000-120.000-PCA-03 (1 x 102)  idle\n",
      "        axial-Raw-0.000-120.000-PCA-04 (1 x 102)  idle\n",
      "        axial-Raw-0.000-120.000-PCA-05 (1 x 102)  idle\n",
      "        axial-Raw-0.000-120.000-PCA-06 (1 x 102)  idle\n",
      "Now restoring ICA solution ...\n",
      "Ready.\n",
      "Applying ICA to Raw instance\n",
      "    Transforming to ICA space (203 components)\n",
      "    Zeroing out 3 ICA components\n",
      "    Projecting back using 305 PCA components\n",
      "158 events found\n",
      "Event IDs: [ 11  12  23 202]\n",
      "Not setting metadata\n",
      "80 matching events found\n",
      "Setting baseline interval to [-0.2, 0.0] s\n",
      "Applying baseline correction (mode: mean)\n",
      "Created an SSP operator (subspace dimension = 9)\n",
      "9 projection items activated\n",
      "Using data from preloaded Raw for 80 events and 1201 original time points ...\n",
      "0 bad epochs dropped\n"
     ]
    },
    {
     "name": "stderr",
     "output_type": "stream",
     "text": [
      "[Parallel(n_jobs=4)]: Using backend LokyBackend with 4 concurrent workers.\n",
      "[Parallel(n_jobs=4)]: Done  44 tasks      | elapsed:    0.1s\n"
     ]
    },
    {
     "name": "stdout",
     "output_type": "stream",
     "text": [
      "Opening raw data file /work/834761/0108/20230928_000000/MEG/002.other_block1/files/other_block1.fif...\n",
      "    Read a total of 9 projection items:\n",
      "        planar-Raw-0.000-120.000-PCA-01 (1 x 203)  idle\n",
      "        planar-Raw-0.000-120.000-PCA-02 (1 x 203)  idle\n",
      "        planar-Raw-0.000-120.000-PCA-03 (1 x 203)  idle\n",
      "        axial-Raw-0.000-120.000-PCA-01 (1 x 102)  idle\n",
      "        axial-Raw-0.000-120.000-PCA-02 (1 x 102)  idle\n",
      "        axial-Raw-0.000-120.000-PCA-03 (1 x 102)  idle\n",
      "        axial-Raw-0.000-120.000-PCA-04 (1 x 102)  idle\n",
      "        axial-Raw-0.000-120.000-PCA-05 (1 x 102)  idle\n",
      "        axial-Raw-0.000-120.000-PCA-06 (1 x 102)  idle\n"
     ]
    },
    {
     "name": "stderr",
     "output_type": "stream",
     "text": [
      "[Parallel(n_jobs=4)]: Done 22814 tasks      | elapsed:    1.7s\n",
      "[Parallel(n_jobs=4)]: Done 25760 out of 25760 | elapsed:    1.8s finished\n",
      "/work/PernilleHøjlundBrams#8577/notebooks_PHB/MEG_portfolio/utils.py:29: RuntimeWarning: This filename (/work/834761/0108/20230928_000000/MEG/002.other_block1/files/other_block1.fif) does not conform to MNE naming conventions. All raw files should end with raw.fif, raw_sss.fif, raw_tsss.fif, _meg.fif, _eeg.fif, _ieeg.fif, raw.fif.gz, raw_sss.fif.gz, raw_tsss.fif.gz, _meg.fif.gz, _eeg.fif.gz or _ieeg.fif.gz\n",
      "  raw = mne.io.read_raw_fif(fif_path, preload = True)\n"
     ]
    },
    {
     "name": "stdout",
     "output_type": "stream",
     "text": [
      "    Range : 69000 ... 451999 =     69.000 ...   451.999 secs\n",
      "Ready.\n",
      "Reading 0 ... 382999  =      0.000 ...   382.999 secs...\n",
      "Filtering raw data in 1 contiguous segment\n",
      "Setting up band-pass filter from 0.1 - 40 Hz\n",
      "\n",
      "FIR filter parameters\n",
      "---------------------\n",
      "Designing a one-pass, zero-phase, non-causal bandpass filter:\n",
      "- Windowed time-domain design (firwin) method\n",
      "- Hamming window with 0.0194 passband ripple and 53 dB stopband attenuation\n",
      "- Lower passband edge: 0.10\n",
      "- Lower transition bandwidth: 0.10 Hz (-6 dB cutoff frequency: 0.05 Hz)\n",
      "- Upper passband edge: 40.00 Hz\n",
      "- Upper transition bandwidth: 10.00 Hz (-6 dB cutoff frequency: 45.00 Hz)\n",
      "- Filter length: 33001 samples (33.001 s)\n",
      "\n"
     ]
    },
    {
     "name": "stderr",
     "output_type": "stream",
     "text": [
      "[Parallel(n_jobs=4)]: Using backend LokyBackend with 4 concurrent workers.\n",
      "[Parallel(n_jobs=4)]: Done  44 tasks      | elapsed:    0.7s\n"
     ]
    },
    {
     "name": "stdout",
     "output_type": "stream",
     "text": [
      "Reading /work/study_group_8/ICA/0108/002.other_block1-ica.fif ...\n"
     ]
    },
    {
     "name": "stderr",
     "output_type": "stream",
     "text": [
      "[Parallel(n_jobs=4)]: Done 306 out of 306 | elapsed:    3.4s finished\n"
     ]
    },
    {
     "name": "stdout",
     "output_type": "stream",
     "text": [
      "    Read a total of 9 projection items:\n",
      "        planar-Raw-0.000-120.000-PCA-01 (1 x 203)  idle\n",
      "        planar-Raw-0.000-120.000-PCA-02 (1 x 203)  idle\n",
      "        planar-Raw-0.000-120.000-PCA-03 (1 x 203)  idle\n",
      "        axial-Raw-0.000-120.000-PCA-01 (1 x 102)  idle\n",
      "        axial-Raw-0.000-120.000-PCA-02 (1 x 102)  idle\n",
      "        axial-Raw-0.000-120.000-PCA-03 (1 x 102)  idle\n",
      "        axial-Raw-0.000-120.000-PCA-04 (1 x 102)  idle\n",
      "        axial-Raw-0.000-120.000-PCA-05 (1 x 102)  idle\n",
      "        axial-Raw-0.000-120.000-PCA-06 (1 x 102)  idle\n",
      "Now restoring ICA solution ...\n",
      "Ready.\n",
      "Applying ICA to Raw instance\n",
      "    Transforming to ICA space (202 components)\n",
      "    Zeroing out 3 ICA components\n",
      "    Projecting back using 305 PCA components\n",
      "162 events found\n",
      "Event IDs: [ 21  22  23 103 202]\n",
      "Not setting metadata\n",
      "80 matching events found\n",
      "Setting baseline interval to [-0.2, 0.0] s\n",
      "Applying baseline correction (mode: mean)\n",
      "Created an SSP operator (subspace dimension = 9)\n",
      "9 projection items activated\n",
      "Using data from preloaded Raw for 80 events and 1201 original time points ...\n",
      "0 bad epochs dropped\n"
     ]
    },
    {
     "name": "stderr",
     "output_type": "stream",
     "text": [
      "[Parallel(n_jobs=4)]: Using backend LokyBackend with 4 concurrent workers.\n",
      "[Parallel(n_jobs=4)]: Done  44 tasks      | elapsed:    0.1s\n"
     ]
    },
    {
     "name": "stdout",
     "output_type": "stream",
     "text": [
      "Opening raw data file /work/834761/0108/20230928_000000/MEG/003.self_block2/files/self_block2.fif...\n",
      "    Read a total of 9 projection items:\n",
      "        planar-Raw-0.000-120.000-PCA-01 (1 x 203)  idle\n",
      "        planar-Raw-0.000-120.000-PCA-02 (1 x 203)  idle\n",
      "        planar-Raw-0.000-120.000-PCA-03 (1 x 203)  idle\n",
      "        axial-Raw-0.000-120.000-PCA-01 (1 x 102)  idle\n",
      "        axial-Raw-0.000-120.000-PCA-02 (1 x 102)  idle\n",
      "        axial-Raw-0.000-120.000-PCA-03 (1 x 102)  idle\n",
      "        axial-Raw-0.000-120.000-PCA-04 (1 x 102)  idle\n",
      "        axial-Raw-0.000-120.000-PCA-05 (1 x 102)  idle\n",
      "        axial-Raw-0.000-120.000-PCA-06 (1 x 102)  idle\n",
      "    Range : 45000 ... 422999 =     45.000 ...   422.999 secs\n",
      "Ready.\n",
      "Reading 0 ... 377999  =      0.000 ...   377.999 secs...\n"
     ]
    },
    {
     "name": "stderr",
     "output_type": "stream",
     "text": [
      "[Parallel(n_jobs=4)]: Done 23017 tasks      | elapsed:    1.4s\n",
      "[Parallel(n_jobs=4)]: Done 25760 out of 25760 | elapsed:    1.5s finished\n",
      "/work/PernilleHøjlundBrams#8577/notebooks_PHB/MEG_portfolio/utils.py:29: RuntimeWarning: This filename (/work/834761/0108/20230928_000000/MEG/003.self_block2/files/self_block2.fif) does not conform to MNE naming conventions. All raw files should end with raw.fif, raw_sss.fif, raw_tsss.fif, _meg.fif, _eeg.fif, _ieeg.fif, raw.fif.gz, raw_sss.fif.gz, raw_tsss.fif.gz, _meg.fif.gz, _eeg.fif.gz or _ieeg.fif.gz\n",
      "  raw = mne.io.read_raw_fif(fif_path, preload = True)\n"
     ]
    },
    {
     "name": "stdout",
     "output_type": "stream",
     "text": [
      "Filtering raw data in 1 contiguous segment\n",
      "Setting up band-pass filter from 0.1 - 40 Hz\n",
      "\n",
      "FIR filter parameters\n",
      "---------------------\n",
      "Designing a one-pass, zero-phase, non-causal bandpass filter:\n",
      "- Windowed time-domain design (firwin) method\n",
      "- Hamming window with 0.0194 passband ripple and 53 dB stopband attenuation\n",
      "- Lower passband edge: 0.10\n",
      "- Lower transition bandwidth: 0.10 Hz (-6 dB cutoff frequency: 0.05 Hz)\n",
      "- Upper passband edge: 40.00 Hz\n",
      "- Upper transition bandwidth: 10.00 Hz (-6 dB cutoff frequency: 45.00 Hz)\n",
      "- Filter length: 33001 samples (33.001 s)\n",
      "\n"
     ]
    },
    {
     "name": "stderr",
     "output_type": "stream",
     "text": [
      "[Parallel(n_jobs=4)]: Using backend LokyBackend with 4 concurrent workers.\n",
      "[Parallel(n_jobs=4)]: Done  44 tasks      | elapsed:    0.7s\n"
     ]
    },
    {
     "name": "stdout",
     "output_type": "stream",
     "text": [
      "Reading /work/study_group_8/ICA/0108/003.self_block2-ica.fif ...\n"
     ]
    },
    {
     "name": "stderr",
     "output_type": "stream",
     "text": [
      "[Parallel(n_jobs=4)]: Done 306 out of 306 | elapsed:    3.4s finished\n"
     ]
    },
    {
     "name": "stdout",
     "output_type": "stream",
     "text": [
      "    Read a total of 9 projection items:\n",
      "        planar-Raw-0.000-120.000-PCA-01 (1 x 203)  idle\n",
      "        planar-Raw-0.000-120.000-PCA-02 (1 x 203)  idle\n",
      "        planar-Raw-0.000-120.000-PCA-03 (1 x 203)  idle\n",
      "        axial-Raw-0.000-120.000-PCA-01 (1 x 102)  idle\n",
      "        axial-Raw-0.000-120.000-PCA-02 (1 x 102)  idle\n",
      "        axial-Raw-0.000-120.000-PCA-03 (1 x 102)  idle\n",
      "        axial-Raw-0.000-120.000-PCA-04 (1 x 102)  idle\n",
      "        axial-Raw-0.000-120.000-PCA-05 (1 x 102)  idle\n",
      "        axial-Raw-0.000-120.000-PCA-06 (1 x 102)  idle\n",
      "Now restoring ICA solution ...\n",
      "Ready.\n",
      "Applying ICA to Raw instance\n",
      "    Transforming to ICA space (188 components)\n",
      "    Zeroing out 3 ICA components\n",
      "    Projecting back using 305 PCA components\n",
      "161 events found\n",
      "Event IDs: [ 11  12  23 103 202]\n",
      "Not setting metadata\n",
      "80 matching events found\n",
      "Setting baseline interval to [-0.2, 0.0] s\n",
      "Applying baseline correction (mode: mean)\n",
      "Created an SSP operator (subspace dimension = 9)\n",
      "9 projection items activated\n",
      "Using data from preloaded Raw for 80 events and 1201 original time points ...\n",
      "    Rejecting  epoch based on MAG : ['MEG0521', 'MEG0911', 'MEG2621']\n",
      "1 bad epochs dropped\n"
     ]
    },
    {
     "name": "stderr",
     "output_type": "stream",
     "text": [
      "[Parallel(n_jobs=4)]: Using backend LokyBackend with 4 concurrent workers.\n",
      "[Parallel(n_jobs=4)]: Done  44 tasks      | elapsed:    0.1s\n"
     ]
    },
    {
     "name": "stdout",
     "output_type": "stream",
     "text": [
      "Opening raw data file /work/834761/0108/20230928_000000/MEG/004.other_block2/files/other_block2.fif...\n",
      "    Read a total of 9 projection items:\n",
      "        planar-Raw-0.000-120.000-PCA-01 (1 x 203)  idle\n",
      "        planar-Raw-0.000-120.000-PCA-02 (1 x 203)  idle\n",
      "        planar-Raw-0.000-120.000-PCA-03 (1 x 203)  idle\n",
      "        axial-Raw-0.000-120.000-PCA-01 (1 x 102)  idle\n",
      "        axial-Raw-0.000-120.000-PCA-02 (1 x 102)  idle\n",
      "        axial-Raw-0.000-120.000-PCA-03 (1 x 102)  idle\n",
      "        axial-Raw-0.000-120.000-PCA-04 (1 x 102)  idle\n",
      "        axial-Raw-0.000-120.000-PCA-05 (1 x 102)  idle\n",
      "        axial-Raw-0.000-120.000-PCA-06 (1 x 102)  idle\n",
      "    Range : 48000 ... 426999 =     48.000 ...   426.999 secs\n",
      "Ready.\n",
      "Reading 0 ... 378999  =      0.000 ...   378.999 secs...\n"
     ]
    },
    {
     "name": "stderr",
     "output_type": "stream",
     "text": [
      "[Parallel(n_jobs=4)]: Done 20854 tasks      | elapsed:    1.5s\n",
      "[Parallel(n_jobs=4)]: Done 25438 out of 25438 | elapsed:    1.6s finished\n",
      "/work/PernilleHøjlundBrams#8577/notebooks_PHB/MEG_portfolio/utils.py:29: RuntimeWarning: This filename (/work/834761/0108/20230928_000000/MEG/004.other_block2/files/other_block2.fif) does not conform to MNE naming conventions. All raw files should end with raw.fif, raw_sss.fif, raw_tsss.fif, _meg.fif, _eeg.fif, _ieeg.fif, raw.fif.gz, raw_sss.fif.gz, raw_tsss.fif.gz, _meg.fif.gz, _eeg.fif.gz or _ieeg.fif.gz\n",
      "  raw = mne.io.read_raw_fif(fif_path, preload = True)\n"
     ]
    },
    {
     "name": "stdout",
     "output_type": "stream",
     "text": [
      "Filtering raw data in 1 contiguous segment\n",
      "Setting up band-pass filter from 0.1 - 40 Hz\n",
      "\n",
      "FIR filter parameters\n",
      "---------------------\n",
      "Designing a one-pass, zero-phase, non-causal bandpass filter:\n",
      "- Windowed time-domain design (firwin) method\n",
      "- Hamming window with 0.0194 passband ripple and 53 dB stopband attenuation\n",
      "- Lower passband edge: 0.10\n",
      "- Lower transition bandwidth: 0.10 Hz (-6 dB cutoff frequency: 0.05 Hz)\n",
      "- Upper passband edge: 40.00 Hz\n",
      "- Upper transition bandwidth: 10.00 Hz (-6 dB cutoff frequency: 45.00 Hz)\n",
      "- Filter length: 33001 samples (33.001 s)\n",
      "\n"
     ]
    },
    {
     "name": "stderr",
     "output_type": "stream",
     "text": [
      "[Parallel(n_jobs=4)]: Using backend LokyBackend with 4 concurrent workers.\n",
      "[Parallel(n_jobs=4)]: Done  44 tasks      | elapsed:    0.7s\n"
     ]
    },
    {
     "name": "stdout",
     "output_type": "stream",
     "text": [
      "Reading /work/study_group_8/ICA/0108/004.other_block2-ica.fif ...\n",
      "    Read a total of 9 projection items:\n"
     ]
    },
    {
     "name": "stderr",
     "output_type": "stream",
     "text": [
      "[Parallel(n_jobs=4)]: Done 306 out of 306 | elapsed:    3.3s finished\n"
     ]
    },
    {
     "name": "stdout",
     "output_type": "stream",
     "text": [
      "        planar-Raw-0.000-120.000-PCA-01 (1 x 203)  idle\n",
      "        planar-Raw-0.000-120.000-PCA-02 (1 x 203)  idle\n",
      "        planar-Raw-0.000-120.000-PCA-03 (1 x 203)  idle\n",
      "        axial-Raw-0.000-120.000-PCA-01 (1 x 102)  idle\n",
      "        axial-Raw-0.000-120.000-PCA-02 (1 x 102)  idle\n",
      "        axial-Raw-0.000-120.000-PCA-03 (1 x 102)  idle\n",
      "        axial-Raw-0.000-120.000-PCA-04 (1 x 102)  idle\n",
      "        axial-Raw-0.000-120.000-PCA-05 (1 x 102)  idle\n",
      "        axial-Raw-0.000-120.000-PCA-06 (1 x 102)  idle\n",
      "Now restoring ICA solution ...\n",
      "Ready.\n",
      "Applying ICA to Raw instance\n",
      "    Transforming to ICA space (189 components)\n",
      "    Zeroing out 3 ICA components\n",
      "    Projecting back using 305 PCA components\n",
      "160 events found\n",
      "Event IDs: [ 21  22  23 103 202]\n",
      "Not setting metadata\n",
      "80 matching events found\n",
      "Setting baseline interval to [-0.2, 0.0] s\n",
      "Applying baseline correction (mode: mean)\n",
      "Created an SSP operator (subspace dimension = 9)\n",
      "9 projection items activated\n",
      "Using data from preloaded Raw for 80 events and 1201 original time points ...\n",
      "    Rejecting  epoch based on MAG : ['MEG0521', 'MEG0911']\n",
      "1 bad epochs dropped\n"
     ]
    },
    {
     "name": "stderr",
     "output_type": "stream",
     "text": [
      "[Parallel(n_jobs=4)]: Using backend LokyBackend with 4 concurrent workers.\n",
      "[Parallel(n_jobs=4)]: Done  44 tasks      | elapsed:    0.1s\n"
     ]
    },
    {
     "name": "stdout",
     "output_type": "stream",
     "text": [
      "Opening raw data file /work/834761/0108/20230928_000000/MEG/005.self_block3/files/self_block3.fif...\n",
      "    Read a total of 9 projection items:\n",
      "        planar-Raw-0.000-120.000-PCA-01 (1 x 203)  idle\n",
      "        planar-Raw-0.000-120.000-PCA-02 (1 x 203)  idle\n",
      "        planar-Raw-0.000-120.000-PCA-03 (1 x 203)  idle\n",
      "        axial-Raw-0.000-120.000-PCA-01 (1 x 102)  idle\n",
      "        axial-Raw-0.000-120.000-PCA-02 (1 x 102)  idle\n",
      "        axial-Raw-0.000-120.000-PCA-03 (1 x 102)  idle\n",
      "        axial-Raw-0.000-120.000-PCA-04 (1 x 102)  idle\n",
      "        axial-Raw-0.000-120.000-PCA-05 (1 x 102)  idle\n",
      "        axial-Raw-0.000-120.000-PCA-06 (1 x 102)  idle\n"
     ]
    },
    {
     "name": "stderr",
     "output_type": "stream",
     "text": [
      "[Parallel(n_jobs=4)]: Done 20854 tasks      | elapsed:    1.5s\n",
      "[Parallel(n_jobs=4)]: Done 25438 out of 25438 | elapsed:    1.6s finished\n",
      "/work/PernilleHøjlundBrams#8577/notebooks_PHB/MEG_portfolio/utils.py:29: RuntimeWarning: This filename (/work/834761/0108/20230928_000000/MEG/005.self_block3/files/self_block3.fif) does not conform to MNE naming conventions. All raw files should end with raw.fif, raw_sss.fif, raw_tsss.fif, _meg.fif, _eeg.fif, _ieeg.fif, raw.fif.gz, raw_sss.fif.gz, raw_tsss.fif.gz, _meg.fif.gz, _eeg.fif.gz or _ieeg.fif.gz\n",
      "  raw = mne.io.read_raw_fif(fif_path, preload = True)\n"
     ]
    },
    {
     "name": "stdout",
     "output_type": "stream",
     "text": [
      "    Range : 44000 ... 424999 =     44.000 ...   424.999 secs\n",
      "Ready.\n",
      "Reading 0 ... 380999  =      0.000 ...   380.999 secs...\n",
      "Filtering raw data in 1 contiguous segment\n",
      "Setting up band-pass filter from 0.1 - 40 Hz\n",
      "\n",
      "FIR filter parameters\n",
      "---------------------\n",
      "Designing a one-pass, zero-phase, non-causal bandpass filter:\n",
      "- Windowed time-domain design (firwin) method\n",
      "- Hamming window with 0.0194 passband ripple and 53 dB stopband attenuation\n",
      "- Lower passband edge: 0.10\n",
      "- Lower transition bandwidth: 0.10 Hz (-6 dB cutoff frequency: 0.05 Hz)\n",
      "- Upper passband edge: 40.00 Hz\n",
      "- Upper transition bandwidth: 10.00 Hz (-6 dB cutoff frequency: 45.00 Hz)\n",
      "- Filter length: 33001 samples (33.001 s)\n",
      "\n"
     ]
    },
    {
     "name": "stderr",
     "output_type": "stream",
     "text": [
      "[Parallel(n_jobs=4)]: Using backend LokyBackend with 4 concurrent workers.\n",
      "[Parallel(n_jobs=4)]: Done  44 tasks      | elapsed:    0.7s\n",
      "[Parallel(n_jobs=4)]: Done 306 out of 306 | elapsed:    3.5s finished\n"
     ]
    },
    {
     "name": "stdout",
     "output_type": "stream",
     "text": [
      "Reading /work/study_group_8/ICA/0108/005.self_block3-ica.fif ...\n",
      "    Read a total of 9 projection items:\n",
      "        planar-Raw-0.000-120.000-PCA-01 (1 x 203)  idle\n",
      "        planar-Raw-0.000-120.000-PCA-02 (1 x 203)  idle\n",
      "        planar-Raw-0.000-120.000-PCA-03 (1 x 203)  idle\n",
      "        axial-Raw-0.000-120.000-PCA-01 (1 x 102)  idle\n",
      "        axial-Raw-0.000-120.000-PCA-02 (1 x 102)  idle\n",
      "        axial-Raw-0.000-120.000-PCA-03 (1 x 102)  idle\n",
      "        axial-Raw-0.000-120.000-PCA-04 (1 x 102)  idle\n",
      "        axial-Raw-0.000-120.000-PCA-05 (1 x 102)  idle\n",
      "        axial-Raw-0.000-120.000-PCA-06 (1 x 102)  idle\n",
      "Now restoring ICA solution ...\n",
      "Ready.\n",
      "Applying ICA to Raw instance\n",
      "    Transforming to ICA space (201 components)\n",
      "    Zeroing out 3 ICA components\n",
      "    Projecting back using 305 PCA components\n",
      "162 events found\n",
      "Event IDs: [ 11  12  23 103 202]\n",
      "Not setting metadata\n",
      "80 matching events found\n",
      "Setting baseline interval to [-0.2, 0.0] s\n",
      "Applying baseline correction (mode: mean)\n",
      "Created an SSP operator (subspace dimension = 9)\n",
      "9 projection items activated\n",
      "Using data from preloaded Raw for 80 events and 1201 original time points ...\n",
      "    Rejecting  epoch based on MAG : ['MEG0521', 'MEG0911']\n",
      "1 bad epochs dropped\n"
     ]
    },
    {
     "name": "stderr",
     "output_type": "stream",
     "text": [
      "[Parallel(n_jobs=4)]: Using backend LokyBackend with 4 concurrent workers.\n",
      "[Parallel(n_jobs=4)]: Done  44 tasks      | elapsed:    0.1s\n"
     ]
    },
    {
     "name": "stdout",
     "output_type": "stream",
     "text": [
      "Opening raw data file /work/834761/0108/20230928_000000/MEG/006.other_block3/files/other_block3.fif...\n",
      "    Read a total of 9 projection items:\n",
      "        planar-Raw-0.000-120.000-PCA-01 (1 x 203)  idle\n",
      "        planar-Raw-0.000-120.000-PCA-02 (1 x 203)  idle\n",
      "        planar-Raw-0.000-120.000-PCA-03 (1 x 203)  idle\n",
      "        axial-Raw-0.000-120.000-PCA-01 (1 x 102)  idle\n",
      "        axial-Raw-0.000-120.000-PCA-02 (1 x 102)  idle\n",
      "        axial-Raw-0.000-120.000-PCA-03 (1 x 102)  idle\n",
      "        axial-Raw-0.000-120.000-PCA-04 (1 x 102)  idle\n",
      "        axial-Raw-0.000-120.000-PCA-05 (1 x 102)  idle\n",
      "        axial-Raw-0.000-120.000-PCA-06 (1 x 102)  idle\n",
      "    Range : 12000 ... 398999 =     12.000 ...   398.999 secs\n",
      "Ready.\n",
      "Reading 0 ... 386999  =      0.000 ...   386.999 secs...\n"
     ]
    },
    {
     "name": "stderr",
     "output_type": "stream",
     "text": [
      "[Parallel(n_jobs=4)]: Done 22734 tasks      | elapsed:    1.6s\n",
      "[Parallel(n_jobs=4)]: Done 25438 out of 25438 | elapsed:    1.7s finished\n",
      "/work/PernilleHøjlundBrams#8577/notebooks_PHB/MEG_portfolio/utils.py:29: RuntimeWarning: This filename (/work/834761/0108/20230928_000000/MEG/006.other_block3/files/other_block3.fif) does not conform to MNE naming conventions. All raw files should end with raw.fif, raw_sss.fif, raw_tsss.fif, _meg.fif, _eeg.fif, _ieeg.fif, raw.fif.gz, raw_sss.fif.gz, raw_tsss.fif.gz, _meg.fif.gz, _eeg.fif.gz or _ieeg.fif.gz\n",
      "  raw = mne.io.read_raw_fif(fif_path, preload = True)\n"
     ]
    },
    {
     "name": "stdout",
     "output_type": "stream",
     "text": [
      "Filtering raw data in 1 contiguous segment\n",
      "Setting up band-pass filter from 0.1 - 40 Hz\n",
      "\n",
      "FIR filter parameters\n",
      "---------------------\n",
      "Designing a one-pass, zero-phase, non-causal bandpass filter:\n",
      "- Windowed time-domain design (firwin) method\n",
      "- Hamming window with 0.0194 passband ripple and 53 dB stopband attenuation\n",
      "- Lower passband edge: 0.10\n",
      "- Lower transition bandwidth: 0.10 Hz (-6 dB cutoff frequency: 0.05 Hz)\n",
      "- Upper passband edge: 40.00 Hz\n",
      "- Upper transition bandwidth: 10.00 Hz (-6 dB cutoff frequency: 45.00 Hz)\n",
      "- Filter length: 33001 samples (33.001 s)\n",
      "\n"
     ]
    },
    {
     "name": "stderr",
     "output_type": "stream",
     "text": [
      "[Parallel(n_jobs=4)]: Using backend LokyBackend with 4 concurrent workers.\n",
      "[Parallel(n_jobs=4)]: Done  44 tasks      | elapsed:    0.7s\n"
     ]
    },
    {
     "name": "stdout",
     "output_type": "stream",
     "text": [
      "Reading /work/study_group_8/ICA/0108/006.other_block3-ica.fif ...\n"
     ]
    },
    {
     "name": "stderr",
     "output_type": "stream",
     "text": [
      "[Parallel(n_jobs=4)]: Done 306 out of 306 | elapsed:    3.6s finished\n"
     ]
    },
    {
     "name": "stdout",
     "output_type": "stream",
     "text": [
      "    Read a total of 9 projection items:\n",
      "        planar-Raw-0.000-120.000-PCA-01 (1 x 203)  idle\n",
      "        planar-Raw-0.000-120.000-PCA-02 (1 x 203)  idle\n",
      "        planar-Raw-0.000-120.000-PCA-03 (1 x 203)  idle\n",
      "        axial-Raw-0.000-120.000-PCA-01 (1 x 102)  idle\n",
      "        axial-Raw-0.000-120.000-PCA-02 (1 x 102)  idle\n",
      "        axial-Raw-0.000-120.000-PCA-03 (1 x 102)  idle\n",
      "        axial-Raw-0.000-120.000-PCA-04 (1 x 102)  idle\n",
      "        axial-Raw-0.000-120.000-PCA-05 (1 x 102)  idle\n",
      "        axial-Raw-0.000-120.000-PCA-06 (1 x 102)  idle\n",
      "Now restoring ICA solution ...\n",
      "Ready.\n",
      "Applying ICA to Raw instance\n",
      "    Transforming to ICA space (183 components)\n",
      "    Zeroing out 3 ICA components\n",
      "    Projecting back using 304 PCA components\n",
      "160 events found\n",
      "Event IDs: [ 21  22  23 202]\n",
      "Not setting metadata\n",
      "80 matching events found\n",
      "Setting baseline interval to [-0.2, 0.0] s\n",
      "Applying baseline correction (mode: mean)\n",
      "Created an SSP operator (subspace dimension = 9)\n",
      "9 projection items activated\n",
      "Using data from preloaded Raw for 80 events and 1201 original time points ...\n",
      "0 bad epochs dropped\n"
     ]
    },
    {
     "name": "stderr",
     "output_type": "stream",
     "text": [
      "[Parallel(n_jobs=4)]: Using backend LokyBackend with 4 concurrent workers.\n",
      "[Parallel(n_jobs=4)]: Done  44 tasks      | elapsed:    0.1s\n",
      "[Parallel(n_jobs=4)]: Done 22794 tasks      | elapsed:    1.5s\n",
      "[Parallel(n_jobs=4)]: Done 25680 out of 25680 | elapsed:    1.6s finished\n"
     ]
    },
    {
     "ename": "ValueError",
     "evalue": "epochs[1].info['dev_head_t'] differs. The instances probably come from different runs, and are therefore associated with different head positions. Manually change info['dev_head_t'] to avoid this message but beware that this means the MEG sensors will not be properly spatially aligned. See mne.preprocessing.maxwell_filter to realign the runs to a common head position.",
     "output_type": "error",
     "traceback": [
      "\u001b[0;31m---------------------------------------------------------------------------\u001b[0m",
      "\u001b[0;31mValueError\u001b[0m                                Traceback (most recent call last)",
      "Cell \u001b[0;32mIn[6], line 23\u001b[0m\n\u001b[1;32m     20\u001b[0m ICA_path \u001b[39m=\u001b[39m Path(\u001b[39m\"\u001b[39m\u001b[39m/work/study_group_8/ICA\u001b[39m\u001b[39m\"\u001b[39m)  \u001b[39m# Adjusting according to yo\u001b[39;00m\n\u001b[1;32m     22\u001b[0m \u001b[39m# Gather all epochs\u001b[39;00m\n\u001b[0;32m---> 23\u001b[0m combined_epochs \u001b[39m=\u001b[39m gather_all_epochs(subjects, recording_names, session_info, MEG_data_path, ICA_path)\n\u001b[1;32m     25\u001b[0m \u001b[39m# For magnetometer data, you might want to select relevant channels (e.g., those over occipital areas)\u001b[39;00m\n\u001b[1;32m     26\u001b[0m \u001b[39m# You can modify this selection based on your experimental setup and sensors' layout\u001b[39;00m\n\u001b[1;32m     27\u001b[0m occipital_chs \u001b[39m=\u001b[39m mne\u001b[39m.\u001b[39mpick_channels_regexp(epochs\u001b[39m.\u001b[39mch_names, regexp\u001b[39m=\u001b[39m\u001b[39m'\u001b[39m\u001b[39mM[LOZ12]*-?3\u001b[39m\u001b[39m'\u001b[39m)\n",
      "Cell \u001b[0;32mIn[3], line 51\u001b[0m, in \u001b[0;36mgather_all_epochs\u001b[0;34m(subjects, recording_names, session_info, MEG_data_path, ICA_path)\u001b[0m\n\u001b[1;32m     48\u001b[0m         all_epochs\u001b[39m.\u001b[39mappend(epochs)\n\u001b[1;32m     50\u001b[0m \u001b[39m# Concatenate all epochs into a single Epochs object\u001b[39;00m\n\u001b[0;32m---> 51\u001b[0m combined_epochs \u001b[39m=\u001b[39m mne\u001b[39m.\u001b[39;49mconcatenate_epochs(all_epochs, add_offset\u001b[39m=\u001b[39;49m\u001b[39mTrue\u001b[39;49;00m)\n\u001b[1;32m     53\u001b[0m \u001b[39mreturn\u001b[39;00m combined_epochs\n",
      "File \u001b[0;32m<decorator-gen-293>:12\u001b[0m, in \u001b[0;36mconcatenate_epochs\u001b[0;34m(epochs_list, add_offset, on_mismatch, verbose)\u001b[0m\n",
      "File \u001b[0;32m/work/PernilleHøjlundBrams#8577/notebooks_PHB/virt_env/lib/python3.10/site-packages/mne/epochs.py:4201\u001b[0m, in \u001b[0;36mconcatenate_epochs\u001b[0;34m(epochs_list, add_offset, on_mismatch, verbose)\u001b[0m\n\u001b[1;32m   4157\u001b[0m \u001b[39m@verbose\u001b[39m\n\u001b[1;32m   4158\u001b[0m \u001b[39mdef\u001b[39;00m \u001b[39mconcatenate_epochs\u001b[39m(\n\u001b[1;32m   4159\u001b[0m     epochs_list, add_offset\u001b[39m=\u001b[39m\u001b[39mTrue\u001b[39;00m, \u001b[39m*\u001b[39m, on_mismatch\u001b[39m=\u001b[39m\u001b[39m\"\u001b[39m\u001b[39mraise\u001b[39m\u001b[39m\"\u001b[39m, verbose\u001b[39m=\u001b[39m\u001b[39mNone\u001b[39;00m\n\u001b[1;32m   4160\u001b[0m ):\n\u001b[1;32m   4161\u001b[0m \u001b[39m    \u001b[39m\u001b[39m\"\"\"Concatenate a list of `~mne.Epochs` into one `~mne.Epochs` object.\u001b[39;00m\n\u001b[1;32m   4162\u001b[0m \n\u001b[1;32m   4163\u001b[0m \u001b[39m    .. note:: Unlike `~mne.concatenate_raws`, this function does **not**\u001b[39;00m\n\u001b[0;32m   (...)\u001b[0m\n\u001b[1;32m   4187\u001b[0m \u001b[39m    .. versionadded:: 0.9.0\u001b[39;00m\n\u001b[1;32m   4188\u001b[0m \u001b[39m    \"\"\"\u001b[39;00m\n\u001b[1;32m   4189\u001b[0m     (\n\u001b[1;32m   4190\u001b[0m         info,\n\u001b[1;32m   4191\u001b[0m         data,\n\u001b[1;32m   4192\u001b[0m         raw_sfreq,\n\u001b[1;32m   4193\u001b[0m         events,\n\u001b[1;32m   4194\u001b[0m         event_id,\n\u001b[1;32m   4195\u001b[0m         tmin,\n\u001b[1;32m   4196\u001b[0m         tmax,\n\u001b[1;32m   4197\u001b[0m         metadata,\n\u001b[1;32m   4198\u001b[0m         baseline,\n\u001b[1;32m   4199\u001b[0m         selection,\n\u001b[1;32m   4200\u001b[0m         drop_log,\n\u001b[0;32m-> 4201\u001b[0m     ) \u001b[39m=\u001b[39m _concatenate_epochs(\n\u001b[1;32m   4202\u001b[0m         epochs_list,\n\u001b[1;32m   4203\u001b[0m         with_data\u001b[39m=\u001b[39;49m\u001b[39mTrue\u001b[39;49;00m,\n\u001b[1;32m   4204\u001b[0m         add_offset\u001b[39m=\u001b[39;49madd_offset,\n\u001b[1;32m   4205\u001b[0m         on_mismatch\u001b[39m=\u001b[39;49mon_mismatch,\n\u001b[1;32m   4206\u001b[0m     )\n\u001b[1;32m   4207\u001b[0m     selection \u001b[39m=\u001b[39m np\u001b[39m.\u001b[39mwhere([\u001b[39mlen\u001b[39m(d) \u001b[39m==\u001b[39m \u001b[39m0\u001b[39m \u001b[39mfor\u001b[39;00m d \u001b[39min\u001b[39;00m drop_log])[\u001b[39m0\u001b[39m]\n\u001b[1;32m   4208\u001b[0m     out \u001b[39m=\u001b[39m EpochsArray(\n\u001b[1;32m   4209\u001b[0m         data\u001b[39m=\u001b[39mdata,\n\u001b[1;32m   4210\u001b[0m         info\u001b[39m=\u001b[39minfo,\n\u001b[0;32m   (...)\u001b[0m\n\u001b[1;32m   4220\u001b[0m         raw_sfreq\u001b[39m=\u001b[39mraw_sfreq,\n\u001b[1;32m   4221\u001b[0m     )\n",
      "File \u001b[0;32m/work/PernilleHøjlundBrams#8577/notebooks_PHB/virt_env/lib/python3.10/site-packages/mne/epochs.py:4060\u001b[0m, in \u001b[0;36m_concatenate_epochs\u001b[0;34m(epochs_list, with_data, add_offset, on_mismatch)\u001b[0m\n\u001b[1;32m   4058\u001b[0m warned \u001b[39m=\u001b[39m \u001b[39mFalse\u001b[39;00m\n\u001b[1;32m   4059\u001b[0m \u001b[39mfor\u001b[39;00m ii, epochs \u001b[39min\u001b[39;00m \u001b[39menumerate\u001b[39m(epochs_list[\u001b[39m1\u001b[39m:], \u001b[39m1\u001b[39m):\n\u001b[0;32m-> 4060\u001b[0m     _ensure_infos_match(epochs\u001b[39m.\u001b[39;49minfo, info, \u001b[39mf\u001b[39;49m\u001b[39m\"\u001b[39;49m\u001b[39mepochs[\u001b[39;49m\u001b[39m{\u001b[39;49;00mii\u001b[39m}\u001b[39;49;00m\u001b[39m]\u001b[39;49m\u001b[39m\"\u001b[39;49m, on_mismatch\u001b[39m=\u001b[39;49mon_mismatch)\n\u001b[1;32m   4061\u001b[0m     \u001b[39mif\u001b[39;00m \u001b[39mnot\u001b[39;00m np\u001b[39m.\u001b[39mallclose(epochs\u001b[39m.\u001b[39mtimes, epochs_list[\u001b[39m0\u001b[39m]\u001b[39m.\u001b[39mtimes):\n\u001b[1;32m   4062\u001b[0m         \u001b[39mraise\u001b[39;00m \u001b[39mValueError\u001b[39;00m(\u001b[39m\"\u001b[39m\u001b[39mEpochs must have same times\u001b[39m\u001b[39m\"\u001b[39m)\n",
      "File \u001b[0;32m/work/PernilleHøjlundBrams#8577/notebooks_PHB/virt_env/lib/python3.10/site-packages/mne/io/meas_info.py:3690\u001b[0m, in \u001b[0;36m_ensure_infos_match\u001b[0;34m(info1, info2, name, on_mismatch)\u001b[0m\n\u001b[1;32m   3674\u001b[0m \u001b[39mif\u001b[39;00m (info1[\u001b[39m\"\u001b[39m\u001b[39mdev_head_t\u001b[39m\u001b[39m\"\u001b[39m] \u001b[39mis\u001b[39;00m \u001b[39mNone\u001b[39;00m) \u001b[39m!=\u001b[39m (info2[\u001b[39m\"\u001b[39m\u001b[39mdev_head_t\u001b[39m\u001b[39m\"\u001b[39m] \u001b[39mis\u001b[39;00m \u001b[39mNone\u001b[39;00m) \u001b[39mor\u001b[39;00m (\n\u001b[1;32m   3675\u001b[0m     info1[\u001b[39m\"\u001b[39m\u001b[39mdev_head_t\u001b[39m\u001b[39m\"\u001b[39m] \u001b[39mis\u001b[39;00m \u001b[39mnot\u001b[39;00m \u001b[39mNone\u001b[39;00m\n\u001b[1;32m   3676\u001b[0m     \u001b[39mand\u001b[39;00m \u001b[39mnot\u001b[39;00m np\u001b[39m.\u001b[39mallclose(\n\u001b[1;32m   3677\u001b[0m         info1[\u001b[39m\"\u001b[39m\u001b[39mdev_head_t\u001b[39m\u001b[39m\"\u001b[39m][\u001b[39m\"\u001b[39m\u001b[39mtrans\u001b[39m\u001b[39m\"\u001b[39m], info2[\u001b[39m\"\u001b[39m\u001b[39mdev_head_t\u001b[39m\u001b[39m\"\u001b[39m][\u001b[39m\"\u001b[39m\u001b[39mtrans\u001b[39m\u001b[39m\"\u001b[39m], rtol\u001b[39m=\u001b[39m\u001b[39m1e-6\u001b[39m\n\u001b[1;32m   3678\u001b[0m     )\n\u001b[1;32m   3679\u001b[0m ):\n\u001b[1;32m   3680\u001b[0m     msg \u001b[39m=\u001b[39m (\n\u001b[1;32m   3681\u001b[0m         \u001b[39mf\u001b[39m\u001b[39m\"\u001b[39m\u001b[39m{\u001b[39;00mname\u001b[39m}\u001b[39;00m\u001b[39m.info[\u001b[39m\u001b[39m'\u001b[39m\u001b[39mdev_head_t\u001b[39m\u001b[39m'\u001b[39m\u001b[39m] differs. The \u001b[39m\u001b[39m\"\u001b[39m\n\u001b[1;32m   3682\u001b[0m         \u001b[39mf\u001b[39m\u001b[39m\"\u001b[39m\u001b[39minstances probably come from different runs, and \u001b[39m\u001b[39m\"\u001b[39m\n\u001b[0;32m   (...)\u001b[0m\n\u001b[1;32m   3688\u001b[0m         \u001b[39mf\u001b[39m\u001b[39m\"\u001b[39m\u001b[39mruns to a common head position.\u001b[39m\u001b[39m\"\u001b[39m\n\u001b[1;32m   3689\u001b[0m     )\n\u001b[0;32m-> 3690\u001b[0m     _on_missing(on_missing\u001b[39m=\u001b[39;49mon_mismatch, msg\u001b[39m=\u001b[39;49mmsg, name\u001b[39m=\u001b[39;49m\u001b[39m\"\u001b[39;49m\u001b[39mon_mismatch\u001b[39;49m\u001b[39m\"\u001b[39;49m)\n",
      "File \u001b[0;32m/work/PernilleHøjlundBrams#8577/notebooks_PHB/virt_env/lib/python3.10/site-packages/mne/utils/check.py:1153\u001b[0m, in \u001b[0;36m_on_missing\u001b[0;34m(on_missing, msg, name, error_klass)\u001b[0m\n\u001b[1;32m   1151\u001b[0m on_missing \u001b[39m=\u001b[39m \u001b[39m\"\u001b[39m\u001b[39mwarn\u001b[39m\u001b[39m\"\u001b[39m \u001b[39mif\u001b[39;00m on_missing \u001b[39m==\u001b[39m \u001b[39m\"\u001b[39m\u001b[39mwarning\u001b[39m\u001b[39m\"\u001b[39m \u001b[39melse\u001b[39;00m on_missing\n\u001b[1;32m   1152\u001b[0m \u001b[39mif\u001b[39;00m on_missing \u001b[39m==\u001b[39m \u001b[39m\"\u001b[39m\u001b[39mraise\u001b[39m\u001b[39m\"\u001b[39m:\n\u001b[0;32m-> 1153\u001b[0m     \u001b[39mraise\u001b[39;00m error_klass(msg)\n\u001b[1;32m   1154\u001b[0m \u001b[39melif\u001b[39;00m on_missing \u001b[39m==\u001b[39m \u001b[39m\"\u001b[39m\u001b[39mwarn\u001b[39m\u001b[39m\"\u001b[39m:\n\u001b[1;32m   1155\u001b[0m     warn(msg)\n",
      "\u001b[0;31mValueError\u001b[0m: epochs[1].info['dev_head_t'] differs. The instances probably come from different runs, and are therefore associated with different head positions. Manually change info['dev_head_t'] to avoid this message but beware that this means the MEG sensors will not be properly spatially aligned. See mne.preprocessing.maxwell_filter to realign the runs to a common head position."
     ]
    }
   ],
   "source": [
    "\n",
    "# Check P1\n",
    "import mne\n",
    "import matplotlib.pyplot as plt\n",
    "import numpy as np\n",
    "\n",
    "# Read session info, defining subjs and recordings, paths\n",
    "with open('/work/PernilleHøjlundBrams#8577/notebooks_PHB/MEG_portfolio/session_info.txt', 'r') as f:\n",
    "    session_info = json.loads(f.read())\n",
    "\n",
    "# Just trying one now\n",
    "#subjects = [\"0108\", \"0109\", \"0110\", \"0111\", \"0112\", \"0113\", \"0114\", \"0115\"]\n",
    "subjects = [\"0108\"]\n",
    "recording_names = [\n",
    "    '001.self_block1',  '002.other_block1', '003.self_block2',\n",
    "    '004.other_block2', '005.self_block3',  '006.other_block3'\n",
    "]\n",
    "\n",
    "# Define other paths\n",
    "MEG_data_path = Path(\"/work/834761\")\n",
    "ICA_path = Path(\"/work/study_group_8/ICA\")  # Adjusting according to yo\n",
    "\n",
    "# Gather all epochs\n",
    "combined_epochs = gather_all_epochs(subjects, recording_names, session_info, MEG_data_path, ICA_path)\n",
    "\n",
    "# For magnetometer data, you might want to select relevant channels (e.g., those over occipital areas)\n",
    "# You can modify this selection based on your experimental setup and sensors' layout\n",
    "occipital_chs = mne.pick_channels_regexp(epochs.ch_names, regexp='M[LOZ12]*-?3')\n",
    "\n",
    "# Epochs selection if some rejection is needed\n",
    "# epochs = epochs.drop_bad() # if you've set rejection parameters but not applied them yet\n",
    "# epochs = epochs['your_condition'] # if you want to select a specific condition\n",
    "\n",
    "# Extract an ERP/ERF for a specific condition and channels\n",
    "# Here, we average across epochs (assuming event_id=1, adjust as needed), \n",
    "# and then select the channels of interest.\n",
    "erf = epochs.average().pick_channels([epochs.ch_names[i] for i in occipital_chs])\n",
    "\n",
    "# Plot the ERF with the time range where you expect the P1 (e.g., 80 to 120 ms)\n",
    "erf.plot(titles='Occipital Channels', time_unit='s', \n",
    "         spatial_colors=True, picks='mag',\n",
    "         show=False)\n",
    "plt.axvline(x=0.1, color='k', linestyle='--', label='100 ms')\n",
    "plt.axvline(x=0.12, color='r', linestyle='--', label='120 ms')\n",
    "plt.legend()\n",
    "plt.show()\n",
    "\n",
    "# Get the Global Field Power (GFP) and plot it\n",
    "gfp = np.sqrt((erf.data ** 2).mean(axis=0))\n",
    "plt.plot(erf.times, gfp, label='GFP')\n",
    "plt.axvline(x=0.1, color='k', linestyle='--', label='100 ms')\n",
    "plt.axvline(x=0.12, color='r', linestyle='--', label='120 ms')\n",
    "plt.title('Global Field Power (GFP)')\n",
    "plt.xlabel('Time (s)')\n",
    "plt.ylabel('GFP')\n",
    "plt.legend()\n",
    "plt.show()\n",
    "\n",
    "# For statistical analysis of the P1 across trials, you might look at a specific \n",
    "# time window and channel and perform a t-test to see if the activity is \n",
    "# significantly different from baseline or zero.\n",
    "\n",
    "# Example: check if the activity between 100-120 ms is different from baseline\n",
    "from scipy.stats import ttest_1samp\n",
    "\n",
    "# Extract data in the 100-140 ms window\n",
    "time_mask = np.logical_and(erf.times >= 0.1, erf.times <= 0.14)\n",
    "data_in_window = epochs.get_data(picks=occipital_chs)[:, :, time_mask].mean(axis=-1)\n",
    "\n",
    "# Statistical test\n",
    "t_stat, p_val = ttest_1samp(data_in_window, popmean=0, axis=0)\n",
    "print(f\"t-stat: {t_stat}, p-value: {p_val}\")\n",
    "\n",
    "# Note: Ensure the analysis & tests fit your experimental design & hypothesis, \n",
    "# this is a simple general check for the P1.\n",
    "\n",
    "\n"
   ]
  }
 ],
 "metadata": {
  "kernelspec": {
   "display_name": "virt_env",
   "language": "python",
   "name": "virt_env"
  },
  "language_info": {
   "codemirror_mode": {
    "name": "ipython",
    "version": 3
   },
   "file_extension": ".py",
   "mimetype": "text/x-python",
   "name": "python",
   "nbconvert_exporter": "python",
   "pygments_lexer": "ipython3",
   "version": "3.10.12"
  },
  "orig_nbformat": 4
 },
 "nbformat": 4,
 "nbformat_minor": 2
}
