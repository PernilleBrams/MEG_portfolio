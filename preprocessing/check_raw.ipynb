{
 "cells": [
  {
   "cell_type": "markdown",
   "metadata": {},
   "source": [
    "# Check data\n",
    "This notebook is used to plot the raw data to;\n",
    "1. identify bad channels\n",
    "2. identify the beginning and the end of the experiment\n",
    "\n",
    "Remember to add the channels, tmin and tmax to event_session_info.py. Remember to run generate_session_info.py after changing the values."
   ]
  },
  {
   "cell_type": "code",
   "execution_count": 2,
   "metadata": {},
   "outputs": [],
   "source": [
    "import mne\n",
    "from pathlib import Path"
   ]
  },
  {
   "cell_type": "code",
   "execution_count": 3,
   "metadata": {},
   "outputs": [],
   "source": [
    "MEG_data_path = Path(\"/work/834761\")\n",
    "subject = \"0115\"\n",
    "filename = \"self_block1.fif\"\n",
    "\n",
    "# read fif file\n",
    "\n"
   ]
  }
 ],
 "metadata": {
  "kernelspec": {
   "display_name": "env",
   "language": "python",
   "name": "env"
  },
  "language_info": {
   "codemirror_mode": {
    "name": "ipython",
    "version": 3
   },
   "file_extension": ".py",
   "mimetype": "text/x-python",
   "name": "python",
   "nbconvert_exporter": "python",
   "pygments_lexer": "ipython3",
   "version": "3.10.12"
  },
  "orig_nbformat": 4
 },
 "nbformat": 4,
 "nbformat_minor": 2
}
