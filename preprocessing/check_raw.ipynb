{
 "cells": [
  {
   "cell_type": "markdown",
   "metadata": {},
   "source": [
    "# Check data\n",
    "This notebook is used to plot the raw data to;\n",
    "1. identify bad channels\n",
    "2. identify the beginning and the end of the experiment\n",
    "\n",
    "Remember to add the channels, tmin and tmax to event_session_info.py. Remember to run generate_session_info.py after changing the values."
   ]
  },
  {
   "cell_type": "code",
   "execution_count": 5,
   "metadata": {},
   "outputs": [],
   "source": [
    "import mne\n",
    "from pathlib import Path"
   ]
  },
  {
   "cell_type": "code",
   "execution_count": 19,
   "metadata": {},
   "outputs": [
    {
     "name": "stdout",
     "output_type": "stream",
     "text": [
      "Opening raw data file /work/834761/0115/20230928_000000/MEG/001.self_block1/files/self_block1.fif...\n",
      "    Read a total of 9 projection items:\n",
      "        planar-Raw-0.000-120.000-PCA-01 (1 x 203)  idle\n",
      "        planar-Raw-0.000-120.000-PCA-02 (1 x 203)  idle\n",
      "        planar-Raw-0.000-120.000-PCA-03 (1 x 203)  idle\n",
      "        axial-Raw-0.000-120.000-PCA-01 (1 x 102)  idle\n",
      "        axial-Raw-0.000-120.000-PCA-02 (1 x 102)  idle\n",
      "        axial-Raw-0.000-120.000-PCA-03 (1 x 102)  idle\n",
      "        axial-Raw-0.000-120.000-PCA-04 (1 x 102)  idle\n",
      "        axial-Raw-0.000-120.000-PCA-05 (1 x 102)  idle\n",
      "        axial-Raw-0.000-120.000-PCA-06 (1 x 102)  idle\n",
      "    Range : 204000 ... 582999 =    204.000 ...   582.999 secs\n",
      "Ready.\n",
      "Reading 0 ... 378999  =      0.000 ...   378.999 secs...\n"
     ]
    },
    {
     "name": "stderr",
     "output_type": "stream",
     "text": [
      "/tmp/ipykernel_5916/720893394.py:11: RuntimeWarning: This filename (/work/834761/0115/20230928_000000/MEG/001.self_block1/files/self_block1.fif) does not conform to MNE naming conventions. All raw files should end with raw.fif, raw_sss.fif, raw_tsss.fif, _meg.fif, _eeg.fif, _ieeg.fif, raw.fif.gz, raw_sss.fif.gz, raw_tsss.fif.gz, _meg.fif.gz, _eeg.fif.gz or _ieeg.fif.gz\n",
      "  mne.io.read_raw_fif(fif_file_path, preload=True)\n"
     ]
    },
    {
     "data": {
      "text/html": [
       "<table class=\"table table-hover table-striped table-sm table-responsive small\">\n",
       "    <tr>\n",
       "        <th>Measurement date</th>\n",
       "        \n",
       "        <td>September 28, 2023  08:57:14 GMT</td>\n",
       "        \n",
       "    </tr>\n",
       "    <tr>\n",
       "        <th>Experimenter</th>\n",
       "        \n",
       "        <td>Andreas Hojlund (hojlund)</td>\n",
       "        \n",
       "    </tr>\n",
       "        <th>Participant</th>\n",
       "        \n",
       "            \n",
       "        \n",
       "    </tr>\n",
       "    <tr>\n",
       "        <th>Digitized points</th>\n",
       "        \n",
       "        <td>162 points</td>\n",
       "        \n",
       "    </tr>\n",
       "    <tr>\n",
       "        <th>Good channels</th>\n",
       "        <td>2 EOG, 1 ECG, 11 IAS, 102 Magnetometers, 204 Gradiometers, 1 misc, 1 Stimulus, 1 SYST</td>\n",
       "    </tr>\n",
       "    <tr>\n",
       "        <th>Bad channels</th>\n",
       "        <td>None</td>\n",
       "    </tr>\n",
       "    <tr>\n",
       "        <th>EOG channels</th>\n",
       "        <td>EOG001, EOG002</td>\n",
       "    </tr>\n",
       "    <tr>\n",
       "        <th>ECG channels</th>\n",
       "        <td>ECG003</td>\n",
       "    \n",
       "    <tr>\n",
       "        <th>Sampling frequency</th>\n",
       "        <td>1000.00 Hz</td>\n",
       "    </tr>\n",
       "    \n",
       "    \n",
       "    <tr>\n",
       "        <th>Highpass</th>\n",
       "        <td>0.10 Hz</td>\n",
       "    </tr>\n",
       "    \n",
       "    \n",
       "    <tr>\n",
       "        <th>Lowpass</th>\n",
       "        <td>330.00 Hz</td>\n",
       "    </tr>\n",
       "    \n",
       "    \n",
       "    <tr>\n",
       "        <th>Projections</th>\n",
       "        <td>planar-Raw-0.000-120.000-PCA-01 : off<br/>planar-Raw-0.000-120.000-PCA-02 : off<br/>planar-Raw-0.000-120.000-PCA-03 : off<br/>axial-Raw-0.000-120.000-PCA-01 : off<br/>axial-Raw-0.000-120.000-PCA-02 : off<br/>axial-Raw-0.000-120.000-PCA-03 : off<br/>axial-Raw-0.000-120.000-PCA-04 : off<br/>axial-Raw-0.000-120.000-PCA-05 : off<br/>axial-Raw-0.000-120.000-PCA-06 : off</td>\n",
       "    </tr>\n",
       "    \n",
       "    \n",
       "    <tr>\n",
       "        <th>Filenames</th>\n",
       "        <td>self_block1.fif</td>\n",
       "    </tr>\n",
       "    \n",
       "    <tr>\n",
       "        <th>Duration</th>\n",
       "        <td>00:06:19 (HH:MM:SS)</td>\n",
       "    </tr>\n",
       "</table>"
      ],
      "text/plain": [
       "<Raw | self_block1.fif, 323 x 379000 (379.0 s), ~939.2 MB, data loaded>"
      ]
     },
     "execution_count": 19,
     "metadata": {},
     "output_type": "execute_result"
    }
   ],
   "source": [
    "MEG_data_path = Path(\"/work/834761\")\n",
    "subject = \"0115\"\n",
    "subject_folder = \"20230928_000000\"\n",
    "recording_name = \"001.self_block1\"\n",
    "#['001.self_block1',  '002.other_block1', '003.self_block2',  '004.other_block2', '005.self_block3',  '006.other_block3']\n",
    "\n",
    "# get the fif file in the folder by listing files in path\n",
    "fif_file_path = list((MEG_data_path / subject / subject_folder / \"MEG\" / recording_name / \"files\").glob(\"*.fif\"))[0]\n",
    "\n",
    "# read fif file\n",
    "raw = mne.io.read_raw_fif(fif_file_path, preload=True)"
   ]
  },
  {
   "cell_type": "code",
   "execution_count": null,
   "metadata": {},
   "outputs": [],
   "source": [
    "events = mne.find_events(raw)\n",
    "\n",
    "# get the time of the first event\n",
    "tmin = raw.times[events[0][0]]\n",
    "# get the time of the last event\n",
    "tmax = raw.times[events[-1][0]] + 1 # include the last event\n",
    "print(f\"tmin: {tmin}, tmax: {tmax}\")\n",
    "\n",
    "# get the data between tmin and tmax\n",
    "raw.crop(tmin=tmin, tmax=tmax)\n"
   ]
  }
 ],
 "metadata": {
  "kernelspec": {
   "display_name": "env",
   "language": "python",
   "name": "env"
  },
  "language_info": {
   "codemirror_mode": {
    "name": "ipython",
    "version": 3
   },
   "file_extension": ".py",
   "mimetype": "text/x-python",
   "name": "python",
   "nbconvert_exporter": "python",
   "pygments_lexer": "ipython3",
   "version": "3.10.12"
  },
  "orig_nbformat": 4
 },
 "nbformat": 4,
 "nbformat_minor": 2
}
