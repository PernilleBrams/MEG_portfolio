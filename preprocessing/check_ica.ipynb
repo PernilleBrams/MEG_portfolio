{
 "cells": [
  {
   "attachments": {},
   "cell_type": "markdown",
   "metadata": {},
   "source": [
    "# Check ICA\n",
    "The main purpose of the code in this notebook is to identify noise components in the ICA solutions generated in 'run_ica.py'"
   ]
  },
  {
   "cell_type": "code",
   "execution_count": 1,
   "metadata": {},
   "outputs": [],
   "source": [
    "import mne\n",
    "import json\n",
    "import os\n",
    "from pathlib import Path\n",
    "\n",
    "# loading in the txt file with the channels that should be labeled as bad channels\n",
    "with open('../session_info.txt', 'r') as f:\n",
    "    file = f.read()\n",
    "    session_info = json.loads(file)"
   ]
  },
  {
   "cell_type": "code",
   "execution_count": null,
   "metadata": {},
   "outputs": [],
   "source": [
    "MEG_data_path = Path(\"/work/834761\")\n",
    "subject = \"0110\"\n",
    "subject_folder = \"20230926_000000\"\n",
    "recording_name = \"001.self_block1\"\n",
    "#['001.self_block1',  '002.other_block1', '003.self_block2',  '004.other_block2', '005.self_block3',  '006.other_block3']\n",
    "ICA_path = Path(\"../ICA\") / subject / f\"{recording_name}-ica.fif\"\n",
    "# get the fif file in the folder by listing files in path\n",
    "fif_file_path = list((MEG_data_path / subject / subject_folder / \"MEG\" / recording_name / \"files\").glob(\"*.fif\"))[0]\n"
   ]
  },
  {
   "cell_type": "code",
   "execution_count": null,
   "metadata": {},
   "outputs": [],
   "source": [
    "# Loading in the raw data\n",
    "raw = mne.io.read_raw_fif(fif_file_path, on_split_missing='warn');\n",
    "raw.load_data();\n",
    "raw.pick_types(meg=True, eeg=False, stim=True)\n",
    "\n",
    "### EXCLUDING BAD CHANNELS ###\n",
    "# using dict[] notation to get the bad channels for the specific file. Not using dict.get() as this does not raise a key-error if the key does not exist\n",
    "bad_channels_file = session_info[session + '.fif']['bad_channels']\n",
    "\n",
    "# marking the channels as bad\n",
    "raw.info['bads'] = bad_channels_file\n",
    "\n",
    "# cropping beginning and end of recording\n",
    "tmin = session_info[subject][recording_name]['tmin']\n",
    "tmax = session_info[subject][recording_name]['tmax']\n",
    "\n",
    "cropped = raw.copy().crop(tmin = tmin, tmax = tmax)\n",
    "del raw\n",
    "\n",
    "### HIGH PASS FILTERING ###\n",
    "filt_raw = cropped.copy().filter(l_freq=1, h_freq=40)\n",
    "del cropped\n",
    "\n",
    "### ICA ###\n",
    "ica = mne.preprocessing.read_ica(ICA_path)\n",
    "ica.apply(filt_raw)"
   ]
  },
  {
   "cell_type": "code",
   "execution_count": null,
   "metadata": {},
   "outputs": [],
   "source": [
    "ica.plot_sources(filt_raw);"
   ]
  },
  {
   "cell_type": "code",
   "execution_count": null,
   "metadata": {},
   "outputs": [],
   "source": [
    "ica.plot_components()"
   ]
  },
  {
   "cell_type": "markdown",
   "metadata": {},
   "source": [
    "## SEND SUBJECT + RECORDING NAME AND INDICES OF NOISY COMPONENTS TO LAURA!!!"
   ]
  }
 ],
 "metadata": {
  "kernelspec": {
   "display_name": "env",
   "language": "python",
   "name": "env"
  },
  "language_info": {
   "codemirror_mode": {
    "name": "ipython",
    "version": 3
   },
   "file_extension": ".py",
   "mimetype": "text/x-python",
   "name": "python",
   "nbconvert_exporter": "python",
   "pygments_lexer": "ipython3",
   "version": "3.10.12"
  },
  "orig_nbformat": 4,
  "vscode": {
   "interpreter": {
    "hash": "2c6d417fafcf6fd95c2ae07c3da4aca22733dcf3570acef2375b4229f6bb883b"
   }
  }
 },
 "nbformat": 4,
 "nbformat_minor": 2
}
